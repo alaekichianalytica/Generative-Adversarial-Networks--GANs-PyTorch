{
 "cells": [
  {
   "cell_type": "code",
   "execution_count": 1,
   "metadata": {},
   "outputs": [
    {
     "name": "stdout",
     "output_type": "stream",
     "text": [
      "TensorBoard URL: http://localhost:6006/\n"
     ]
    },
    {
     "data": {
      "text/html": [
       "<a href=\"http://localhost:6006/\" target=\"_blank\">Click here to open TensorBoard</a>"
      ],
      "text/plain": [
       "<IPython.core.display.HTML object>"
      ]
     },
     "metadata": {},
     "output_type": "display_data"
    },
    {
     "name": "stdout",
     "output_type": "stream",
     "text": [
      "Available_device: cuda\n"
     ]
    }
   ],
   "source": [
    "import torch\n",
    "import torch.nn as nn\n",
    "import torch.nn.functional as F\n",
    "import torch.utils as utils\n",
    "import torchvision\n",
    "\n",
    "from helpers import Logger\n",
    "\n",
    "torch.manual_seed(0)\n",
    "device = 'cuda' if torch.cuda.is_available() else 'cpu'\n",
    "print(f'Available_device: {device}')"
   ]
  },
  {
   "cell_type": "code",
   "execution_count": 2,
   "metadata": {},
   "outputs": [],
   "source": [
    "# Load and prepare the MNIST dataset\n",
    "data = utils.data.DataLoader(\n",
    "    torchvision.datasets.MNIST('./data', \n",
    "                               transform=torchvision.transforms.ToTensor(), \n",
    "                               download=True),\n",
    "    batch_size=128,\n",
    "    shuffle=True)"
   ]
  },
  {
   "cell_type": "code",
   "execution_count": 3,
   "metadata": {},
   "outputs": [],
   "source": [
    "class Discriminator(nn.Module):\n",
    "    \"\"\"\n",
    "    A three hidden-layer discriminative neural network\n",
    "    \"\"\"\n",
    "    def __init__(self):\n",
    "        super(Discriminator, self).__init__()\n",
    "        self.linear1 = nn.Linear(784, 1024)\n",
    "        self.linear2 = nn.Linear(1024, 512)\n",
    "        self.linear3 = nn.Linear(512, 256)\n",
    "        self.out = nn.Linear(256, 1)\n",
    "\n",
    "    def forward(self, x):\n",
    "        x = torch.flatten(x, start_dim=1)\n",
    "        \n",
    "        x = F.dropout(F.leaky_relu(self.linear1(x), negative_slope=0.2), p=0.3)\n",
    "        x = F.dropout(F.leaky_relu(self.linear2(x), negative_slope=0.2), p=0.3)\n",
    "        x = F.dropout(F.leaky_relu(self.linear3(x), negative_slope=0.2), p=0.3)\n",
    "        \n",
    "        return torch.sigmoid(self.out(x))"
   ]
  },
  {
   "cell_type": "code",
   "execution_count": 4,
   "metadata": {},
   "outputs": [],
   "source": [
    "class Generator(nn.Module):\n",
    "    \"\"\"\n",
    "    A three hidden-layer generative neural network\n",
    "    \"\"\"\n",
    "    def __init__(self):\n",
    "        super(Generator, self).__init__()\n",
    "        self.linear1 = nn.Linear(100, 256)\n",
    "        self.linear2 = nn.Linear(256, 512)\n",
    "        self.linear3 = nn.Linear(512, 1024)\n",
    "        self.out = nn.Linear(1024, 784)\n",
    "\n",
    "    def forward(self, x):\n",
    "        x = F.leaky_relu(self.linear1(x), negative_slope=0.2)\n",
    "        x = F.leaky_relu(self.linear2(x), negative_slope=0.2)\n",
    "        x = F.leaky_relu(self.linear3(x), negative_slope=0.2)\n",
    "        x = torch.tanh(self.out(x))\n",
    "        return x"
   ]
  },
  {
   "cell_type": "code",
   "execution_count": 5,
   "metadata": {},
   "outputs": [
    {
     "ename": "AttributeError",
     "evalue": "'Logger' object has no attribute 'set_tensorboard_url'",
     "output_type": "error",
     "traceback": [
      "\u001b[1;31m---------------------------------------------------------------------------\u001b[0m",
      "\u001b[1;31mAttributeError\u001b[0m                            Traceback (most recent call last)",
      "Cell \u001b[1;32mIn[5], line 12\u001b[0m\n\u001b[0;32m     10\u001b[0m \u001b[38;5;66;03m# Logger setup\u001b[39;00m\n\u001b[0;32m     11\u001b[0m logger \u001b[38;5;241m=\u001b[39m Logger(model_name\u001b[38;5;241m=\u001b[39m\u001b[38;5;124m'\u001b[39m\u001b[38;5;124mGAN\u001b[39m\u001b[38;5;124m'\u001b[39m, data_name\u001b[38;5;241m=\u001b[39m\u001b[38;5;124m'\u001b[39m\u001b[38;5;124mMNIST\u001b[39m\u001b[38;5;124m'\u001b[39m)\n\u001b[1;32m---> 12\u001b[0m \u001b[43mlogger\u001b[49m\u001b[38;5;241;43m.\u001b[39;49m\u001b[43mset_tensorboard_url\u001b[49m(port\u001b[38;5;241m=\u001b[39m\u001b[38;5;241m6006\u001b[39m)  \u001b[38;5;66;03m# Set the TensorBoard URL\u001b[39;00m\n\u001b[0;32m     14\u001b[0m \u001b[38;5;66;03m# Training loop\u001b[39;00m\n\u001b[0;32m     15\u001b[0m num_epochs \u001b[38;5;241m=\u001b[39m \u001b[38;5;241m50\u001b[39m\n",
      "\u001b[1;31mAttributeError\u001b[0m: 'Logger' object has no attribute 'set_tensorboard_url'"
     ]
    }
   ],
   "source": [
    "# Initialize the models\n",
    "generator = Generator()\n",
    "discriminator = Discriminator()\n",
    "\n",
    "# Loss function and optimizers\n",
    "criterion = nn.BCELoss()\n",
    "optimizer_g = torch.optim.Adam(generator.parameters(), lr=0.0002)\n",
    "optimizer_d = torch.optim.Adam(discriminator.parameters(), lr=0.0002)\n",
    "\n",
    "# Logger setup\n",
    "logger = Logger(model_name='GAN', data_name='MNIST')\n",
    "\n",
    "# Training loop\n",
    "num_epochs = 50\n",
    "for epoch in range(num_epochs):\n",
    "    for n, (real_samples, _) in enumerate(data):\n",
    "        # Data for training the discriminator\n",
    "        real_samples = real_samples.view(-1, 784)\n",
    "        real_samples_labels = torch.ones((real_samples.size(0), 1))\n",
    "        latent_space_samples = torch.randn((real_samples.size(0), 100))\n",
    "        generated_samples = generator(latent_space_samples)\n",
    "        generated_samples_labels = torch.zeros((real_samples.size(0), 1))\n",
    "\n",
    "        # Concatenate real and fake data\n",
    "        all_samples = torch.cat((real_samples, generated_samples))\n",
    "        all_samples_labels = torch.cat((real_samples_labels, generated_samples_labels))\n",
    "\n",
    "        # Training the discriminator\n",
    "        discriminator.zero_grad()\n",
    "        output_d = discriminator(all_samples)\n",
    "        loss_d = criterion(output_d, all_samples_labels)\n",
    "        loss_d.backward()\n",
    "        optimizer_d.step()\n",
    "\n",
    "        # Data for training the generator\n",
    "        latent_space_samples = torch.randn((real_samples.size(0), 100))\n",
    "        generator.zero_grad()\n",
    "        generated_samples = generator(latent_space_samples)\n",
    "        output_d_generated = discriminator(generated_samples)\n",
    "\n",
    "        # Reverse the labels for the generator\n",
    "        generated_samples_labels = torch.ones((real_samples.size(0), 1))\n",
    "\n",
    "        # Training the generator\n",
    "        loss_g = criterion(output_d_generated, generated_samples_labels)\n",
    "        loss_g.backward()\n",
    "        optimizer_g.step()\n",
    "\n",
    "        # Logging\n",
    "        logger.log(d_error=loss_d, g_error=loss_g, epoch=epoch, n_batch=n, num_batches=len(data))\n",
    "        if n % 100 == 0:\n",
    "            logger.display_status(epoch, num_epochs, n, len(data), loss_d, loss_g, discriminator(real_samples), output_d_generated)\n",
    "\n",
    "        if n % 100 == 0:\n",
    "            logger.log_images(generated_samples.view(real_samples.size(0), 1, 28, 28), num_images=real_samples.size(0), epoch=epoch, n_batch=n, num_batches=len(data))\n",
    "\n",
    "    # Save the model parameters\n",
    "    logger.save_models(generator, discriminator, epoch)\n",
    "\n",
    "# Close the logger\n",
    "logger.close()\n",
    "\n",
    "print(\"Training Finished.\")"
   ]
  },
  {
   "cell_type": "code",
   "execution_count": null,
   "metadata": {},
   "outputs": [],
   "source": []
  }
 ],
 "metadata": {
  "kernelspec": {
   "display_name": "gan",
   "language": "python",
   "name": "python3"
  },
  "language_info": {
   "codemirror_mode": {
    "name": "ipython",
    "version": 3
   },
   "file_extension": ".py",
   "mimetype": "text/x-python",
   "name": "python",
   "nbconvert_exporter": "python",
   "pygments_lexer": "ipython3",
   "version": "3.12.3"
  }
 },
 "nbformat": 4,
 "nbformat_minor": 2
}
